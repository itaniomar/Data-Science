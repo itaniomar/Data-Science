{
 "cells": [
  {
   "cell_type": "markdown",
   "metadata": {},
   "source": [
    "A Model for predicting Thyroid Cancer"
   ]
  },
  {
   "cell_type": "code",
   "execution_count": 1,
   "metadata": {},
   "outputs": [],
   "source": [
    "import pandas as pd"
   ]
  },
  {
   "cell_type": "code",
   "execution_count": 2,
   "metadata": {},
   "outputs": [
    {
     "data": {
      "text/html": [
       "<div>\n",
       "<style scoped>\n",
       "    .dataframe tbody tr th:only-of-type {\n",
       "        vertical-align: middle;\n",
       "    }\n",
       "\n",
       "    .dataframe tbody tr th {\n",
       "        vertical-align: top;\n",
       "    }\n",
       "\n",
       "    .dataframe thead th {\n",
       "        text-align: right;\n",
       "    }\n",
       "</style>\n",
       "<table border=\"1\" class=\"dataframe\">\n",
       "  <thead>\n",
       "    <tr style=\"text-align: right;\">\n",
       "      <th></th>\n",
       "      <th>liver mean</th>\n",
       "      <th>nodule max</th>\n",
       "      <th>pathology</th>\n",
       "      <th>All TR</th>\n",
       "    </tr>\n",
       "  </thead>\n",
       "  <tbody>\n",
       "    <tr>\n",
       "      <td>0</td>\n",
       "      <td>2.10</td>\n",
       "      <td>19.0</td>\n",
       "      <td>ca</td>\n",
       "      <td>TR5</td>\n",
       "    </tr>\n",
       "    <tr>\n",
       "      <td>1</td>\n",
       "      <td>2.40</td>\n",
       "      <td>1.9</td>\n",
       "      <td>ca</td>\n",
       "      <td>TR4</td>\n",
       "    </tr>\n",
       "    <tr>\n",
       "      <td>2</td>\n",
       "      <td>2.20</td>\n",
       "      <td>4.0</td>\n",
       "      <td>b</td>\n",
       "      <td>TR2</td>\n",
       "    </tr>\n",
       "    <tr>\n",
       "      <td>3</td>\n",
       "      <td>2.70</td>\n",
       "      <td>3.6</td>\n",
       "      <td>b</td>\n",
       "      <td>TR5</td>\n",
       "    </tr>\n",
       "    <tr>\n",
       "      <td>4</td>\n",
       "      <td>3.15</td>\n",
       "      <td>64.0</td>\n",
       "      <td>i</td>\n",
       "      <td>TR4</td>\n",
       "    </tr>\n",
       "  </tbody>\n",
       "</table>\n",
       "</div>"
      ],
      "text/plain": [
       "   liver mean  nodule max pathology All TR\n",
       "0        2.10        19.0        ca    TR5\n",
       "1        2.40         1.9        ca    TR4\n",
       "2        2.20         4.0         b    TR2\n",
       "3        2.70         3.6         b    TR5\n",
       "4        3.15        64.0         i    TR4"
      ]
     },
     "execution_count": 2,
     "metadata": {},
     "output_type": "execute_result"
    }
   ],
   "source": [
    "#open excel file as data frame\n",
    "path ='20200714rawdata.xlsx'\n",
    "df=pd.read_excel(path)\n",
    "df.head()"
   ]
  },
  {
   "attachments": {},
   "cell_type": "markdown",
   "metadata": {},
   "source": [
    "Liver mean: FDG uptake by the liver (for normalization).\n",
    "Nodule max: FDG uptake by thyroid nodule.\n",
    "Pathology: results of pathology cancer(ca), benign (b) , or indeterminate(i).\n",
    "All TR: score of 3 radiologists on nodules (cumulative sonographic features reflected by ACR TI-RADS category). Radiologists were blinded on the previous 3 features."
   ]
  },
  {
   "cell_type": "code",
   "execution_count": 3,
   "metadata": {},
   "outputs": [
    {
     "data": {
      "text/html": [
       "<div>\n",
       "<style scoped>\n",
       "    .dataframe tbody tr th:only-of-type {\n",
       "        vertical-align: middle;\n",
       "    }\n",
       "\n",
       "    .dataframe tbody tr th {\n",
       "        vertical-align: top;\n",
       "    }\n",
       "\n",
       "    .dataframe thead th {\n",
       "        text-align: right;\n",
       "    }\n",
       "</style>\n",
       "<table border=\"1\" class=\"dataframe\">\n",
       "  <thead>\n",
       "    <tr style=\"text-align: right;\">\n",
       "      <th></th>\n",
       "      <th>liver mean</th>\n",
       "      <th>nodule max</th>\n",
       "      <th>pathology</th>\n",
       "      <th>All TR</th>\n",
       "      <th>nod_liver</th>\n",
       "    </tr>\n",
       "  </thead>\n",
       "  <tbody>\n",
       "    <tr>\n",
       "      <td>0</td>\n",
       "      <td>2.10</td>\n",
       "      <td>19.0</td>\n",
       "      <td>ca</td>\n",
       "      <td>TR5</td>\n",
       "      <td>9.047619</td>\n",
       "    </tr>\n",
       "    <tr>\n",
       "      <td>1</td>\n",
       "      <td>2.40</td>\n",
       "      <td>1.9</td>\n",
       "      <td>ca</td>\n",
       "      <td>TR4</td>\n",
       "      <td>0.791667</td>\n",
       "    </tr>\n",
       "    <tr>\n",
       "      <td>2</td>\n",
       "      <td>2.20</td>\n",
       "      <td>4.0</td>\n",
       "      <td>b</td>\n",
       "      <td>TR2</td>\n",
       "      <td>1.818182</td>\n",
       "    </tr>\n",
       "    <tr>\n",
       "      <td>3</td>\n",
       "      <td>2.70</td>\n",
       "      <td>3.6</td>\n",
       "      <td>b</td>\n",
       "      <td>TR5</td>\n",
       "      <td>1.333333</td>\n",
       "    </tr>\n",
       "    <tr>\n",
       "      <td>4</td>\n",
       "      <td>3.15</td>\n",
       "      <td>64.0</td>\n",
       "      <td>i</td>\n",
       "      <td>TR4</td>\n",
       "      <td>20.317460</td>\n",
       "    </tr>\n",
       "  </tbody>\n",
       "</table>\n",
       "</div>"
      ],
      "text/plain": [
       "   liver mean  nodule max pathology All TR  nod_liver\n",
       "0        2.10        19.0        ca    TR5   9.047619\n",
       "1        2.40         1.9        ca    TR4   0.791667\n",
       "2        2.20         4.0         b    TR2   1.818182\n",
       "3        2.70         3.6         b    TR5   1.333333\n",
       "4        3.15        64.0         i    TR4  20.317460"
      ]
     },
     "execution_count": 3,
     "metadata": {},
     "output_type": "execute_result"
    }
   ],
   "source": [
    "#normalize over liver mean\n",
    "df['nod_liver']=df['nodule max']/df['liver mean']\n",
    "df.head()"
   ]
  },
  {
   "cell_type": "code",
   "execution_count": 4,
   "metadata": {},
   "outputs": [],
   "source": [
    "from matplotlib import pyplot as plt\n",
    "%matplotlib inline"
   ]
  },
  {
   "cell_type": "code",
   "execution_count": 5,
   "metadata": {},
   "outputs": [
    {
     "data": {
      "text/plain": [
       "<matplotlib.axes._subplots.AxesSubplot at 0x7ff2eee047d0>"
      ]
     },
     "execution_count": 5,
     "metadata": {},
     "output_type": "execute_result"
    },
    {
     "data": {
      "image/png": "[encoded data removed]",
      "text/plain": [
       "<Figure size 432x288 with 1 Axes>"
      ]
     },
     "metadata": {
      "needs_background": "light"
     },
     "output_type": "display_data"
    }
   ],
   "source": [
    "#histogram and boxplot showing outliers of nod_liver\n",
    "import seaborn as sns\n",
    "sns.distplot(df['nod_liver'])"
   ]
  },
  {
   "cell_type": "code",
   "execution_count": 6,
   "metadata": {},
   "outputs": [
    {
     "data": {
      "text/plain": [
       "<matplotlib.axes._subplots.AxesSubplot at 0x7ff2eef3ba10>"
      ]
     },
     "execution_count": 6,
     "metadata": {},
     "output_type": "execute_result"
    },
    {
     "data": {
      "image/png": "[encoded data removed]",
      "text/plain": [
       "<Figure size 432x288 with 1 Axes>"
      ]
     },
     "metadata": {
      "needs_background": "light"
     },
     "output_type": "display_data"
    }
   ],
   "source": [
    "sns.boxplot(df['nod_liver'])"
   ]
  },
  {
   "cell_type": "code",
   "execution_count": 7,
   "metadata": {},
   "outputs": [
    {
     "data": {
      "text/html": [
       "<div>\n",
       "<style scoped>\n",
       "    .dataframe tbody tr th:only-of-type {\n",
       "        vertical-align: middle;\n",
       "    }\n",
       "\n",
       "    .dataframe tbody tr th {\n",
       "        vertical-align: top;\n",
       "    }\n",
       "\n",
       "    .dataframe thead th {\n",
       "        text-align: right;\n",
       "    }\n",
       "</style>\n",
       "<table border=\"1\" class=\"dataframe\">\n",
       "  <thead>\n",
       "    <tr style=\"text-align: right;\">\n",
       "      <th></th>\n",
       "      <th>liver mean</th>\n",
       "      <th>nodule max</th>\n",
       "      <th>nod_liver</th>\n",
       "    </tr>\n",
       "  </thead>\n",
       "  <tbody>\n",
       "    <tr>\n",
       "      <td>count</td>\n",
       "      <td>170.000000</td>\n",
       "      <td>170.000000</td>\n",
       "      <td>170.000000</td>\n",
       "    </tr>\n",
       "    <tr>\n",
       "      <td>mean</td>\n",
       "      <td>2.677529</td>\n",
       "      <td>10.934294</td>\n",
       "      <td>4.115069</td>\n",
       "    </tr>\n",
       "    <tr>\n",
       "      <td>std</td>\n",
       "      <td>0.509885</td>\n",
       "      <td>14.403668</td>\n",
       "      <td>5.149025</td>\n",
       "    </tr>\n",
       "    <tr>\n",
       "      <td>min</td>\n",
       "      <td>1.300000</td>\n",
       "      <td>1.900000</td>\n",
       "      <td>0.714286</td>\n",
       "    </tr>\n",
       "    <tr>\n",
       "      <td>25%</td>\n",
       "      <td>2.342500</td>\n",
       "      <td>3.825000</td>\n",
       "      <td>1.417194</td>\n",
       "    </tr>\n",
       "    <tr>\n",
       "      <td>50%</td>\n",
       "      <td>2.600000</td>\n",
       "      <td>6.010000</td>\n",
       "      <td>2.500000</td>\n",
       "    </tr>\n",
       "    <tr>\n",
       "      <td>75%</td>\n",
       "      <td>2.920000</td>\n",
       "      <td>11.525000</td>\n",
       "      <td>4.577489</td>\n",
       "    </tr>\n",
       "    <tr>\n",
       "      <td>max</td>\n",
       "      <td>4.600000</td>\n",
       "      <td>116.300000</td>\n",
       "      <td>36.572581</td>\n",
       "    </tr>\n",
       "  </tbody>\n",
       "</table>\n",
       "</div>"
      ],
      "text/plain": [
       "       liver mean  nodule max   nod_liver\n",
       "count  170.000000  170.000000  170.000000\n",
       "mean     2.677529   10.934294    4.115069\n",
       "std      0.509885   14.403668    5.149025\n",
       "min      1.300000    1.900000    0.714286\n",
       "25%      2.342500    3.825000    1.417194\n",
       "50%      2.600000    6.010000    2.500000\n",
       "75%      2.920000   11.525000    4.577489\n",
       "max      4.600000  116.300000   36.572581"
      ]
     },
     "execution_count": 7,
     "metadata": {},
     "output_type": "execute_result"
    }
   ],
   "source": [
    "df.describe()"
   ]
  },
  {
   "cell_type": "code",
   "execution_count": 8,
   "metadata": {},
   "outputs": [
    {
     "data": {
      "text/html": [
       "<div>\n",
       "<style scoped>\n",
       "    .dataframe tbody tr th:only-of-type {\n",
       "        vertical-align: middle;\n",
       "    }\n",
       "\n",
       "    .dataframe tbody tr th {\n",
       "        vertical-align: top;\n",
       "    }\n",
       "\n",
       "    .dataframe thead th {\n",
       "        text-align: right;\n",
       "    }\n",
       "</style>\n",
       "<table border=\"1\" class=\"dataframe\">\n",
       "  <thead>\n",
       "    <tr style=\"text-align: right;\">\n",
       "      <th></th>\n",
       "      <th>liver mean</th>\n",
       "      <th>nodule max</th>\n",
       "      <th>pathology</th>\n",
       "      <th>All TR</th>\n",
       "      <th>nod_liver</th>\n",
       "      <th>TRx</th>\n",
       "    </tr>\n",
       "  </thead>\n",
       "  <tbody>\n",
       "    <tr>\n",
       "      <td>0</td>\n",
       "      <td>2.10</td>\n",
       "      <td>19.0</td>\n",
       "      <td>ca</td>\n",
       "      <td>TR5</td>\n",
       "      <td>9.047619</td>\n",
       "      <td>5</td>\n",
       "    </tr>\n",
       "    <tr>\n",
       "      <td>1</td>\n",
       "      <td>2.40</td>\n",
       "      <td>1.9</td>\n",
       "      <td>ca</td>\n",
       "      <td>TR4</td>\n",
       "      <td>0.791667</td>\n",
       "      <td>4</td>\n",
       "    </tr>\n",
       "    <tr>\n",
       "      <td>2</td>\n",
       "      <td>2.20</td>\n",
       "      <td>4.0</td>\n",
       "      <td>b</td>\n",
       "      <td>TR2</td>\n",
       "      <td>1.818182</td>\n",
       "      <td>2</td>\n",
       "    </tr>\n",
       "    <tr>\n",
       "      <td>3</td>\n",
       "      <td>2.70</td>\n",
       "      <td>3.6</td>\n",
       "      <td>b</td>\n",
       "      <td>TR5</td>\n",
       "      <td>1.333333</td>\n",
       "      <td>5</td>\n",
       "    </tr>\n",
       "    <tr>\n",
       "      <td>4</td>\n",
       "      <td>3.15</td>\n",
       "      <td>64.0</td>\n",
       "      <td>i</td>\n",
       "      <td>TR4</td>\n",
       "      <td>20.317460</td>\n",
       "      <td>4</td>\n",
       "    </tr>\n",
       "  </tbody>\n",
       "</table>\n",
       "</div>"
      ],
      "text/plain": [
       "   liver mean  nodule max pathology All TR  nod_liver  TRx\n",
       "0        2.10        19.0        ca    TR5   9.047619    5\n",
       "1        2.40         1.9        ca    TR4   0.791667    4\n",
       "2        2.20         4.0         b    TR2   1.818182    2\n",
       "3        2.70         3.6         b    TR5   1.333333    5\n",
       "4        3.15        64.0         i    TR4  20.317460    4"
      ]
     },
     "execution_count": 8,
     "metadata": {},
     "output_type": "execute_result"
    }
   ],
   "source": [
    "#convert TR1 through TR5 to 1 - 5 in a new column\n",
    "df['TRx']=df['All TR'].replace({'TR1':1,'TR2':2,'TR3':3,'TR4':4,'TR5':5})\n",
    "df.head()"
   ]
  },
  {
   "cell_type": "code",
   "execution_count": 9,
   "metadata": {},
   "outputs": [
    {
     "data": {
      "text/plain": [
       "b     99\n",
       "ca    52\n",
       "i     19\n",
       "Name: pathology, dtype: int64"
      ]
     },
     "execution_count": 9,
     "metadata": {},
     "output_type": "execute_result"
    }
   ],
   "source": [
    "df.pathology.value_counts()"
   ]
  },
  {
   "cell_type": "code",
   "execution_count": 10,
   "metadata": {},
   "outputs": [
    {
     "data": {
      "text/html": [
       "<div>\n",
       "<style scoped>\n",
       "    .dataframe tbody tr th:only-of-type {\n",
       "        vertical-align: middle;\n",
       "    }\n",
       "\n",
       "    .dataframe tbody tr th {\n",
       "        vertical-align: top;\n",
       "    }\n",
       "\n",
       "    .dataframe thead th {\n",
       "        text-align: right;\n",
       "    }\n",
       "</style>\n",
       "<table border=\"1\" class=\"dataframe\">\n",
       "  <thead>\n",
       "    <tr style=\"text-align: right;\">\n",
       "      <th></th>\n",
       "      <th>liver mean</th>\n",
       "      <th>nodule max</th>\n",
       "      <th>pathology</th>\n",
       "      <th>All TR</th>\n",
       "      <th>nod_liver</th>\n",
       "      <th>TRx</th>\n",
       "    </tr>\n",
       "  </thead>\n",
       "  <tbody>\n",
       "    <tr>\n",
       "      <td>0</td>\n",
       "      <td>2.1</td>\n",
       "      <td>19.0</td>\n",
       "      <td>ca</td>\n",
       "      <td>TR5</td>\n",
       "      <td>9.047619</td>\n",
       "      <td>5</td>\n",
       "    </tr>\n",
       "    <tr>\n",
       "      <td>1</td>\n",
       "      <td>2.4</td>\n",
       "      <td>1.9</td>\n",
       "      <td>ca</td>\n",
       "      <td>TR4</td>\n",
       "      <td>0.791667</td>\n",
       "      <td>4</td>\n",
       "    </tr>\n",
       "    <tr>\n",
       "      <td>2</td>\n",
       "      <td>2.2</td>\n",
       "      <td>4.0</td>\n",
       "      <td>b</td>\n",
       "      <td>TR2</td>\n",
       "      <td>1.818182</td>\n",
       "      <td>2</td>\n",
       "    </tr>\n",
       "    <tr>\n",
       "      <td>3</td>\n",
       "      <td>2.7</td>\n",
       "      <td>3.6</td>\n",
       "      <td>b</td>\n",
       "      <td>TR5</td>\n",
       "      <td>1.333333</td>\n",
       "      <td>5</td>\n",
       "    </tr>\n",
       "    <tr>\n",
       "      <td>5</td>\n",
       "      <td>3.1</td>\n",
       "      <td>13.9</td>\n",
       "      <td>ca</td>\n",
       "      <td>TR5</td>\n",
       "      <td>4.483871</td>\n",
       "      <td>5</td>\n",
       "    </tr>\n",
       "  </tbody>\n",
       "</table>\n",
       "</div>"
      ],
      "text/plain": [
       "   liver mean  nodule max pathology All TR  nod_liver  TRx\n",
       "0         2.1        19.0        ca    TR5   9.047619    5\n",
       "1         2.4         1.9        ca    TR4   0.791667    4\n",
       "2         2.2         4.0         b    TR2   1.818182    2\n",
       "3         2.7         3.6         b    TR5   1.333333    5\n",
       "5         3.1        13.9        ca    TR5   4.483871    5"
      ]
     },
     "execution_count": 10,
     "metadata": {},
     "output_type": "execute_result"
    }
   ],
   "source": [
    "# remove indeterminate pathology\n",
    "df=df[df.pathology != 'i']\n",
    "df.head()"
   ]
  },
  {
   "cell_type": "code",
   "execution_count": 11,
   "metadata": {},
   "outputs": [
    {
     "data": {
      "text/plain": [
       "TRx  pathology\n",
       "1    b             1\n",
       "2    b             5\n",
       "     ca            1\n",
       "3    b            33\n",
       "     ca            5\n",
       "4    b            45\n",
       "     ca           14\n",
       "5    b            15\n",
       "     ca           32\n",
       "dtype: int64"
      ]
     },
     "execution_count": 11,
     "metadata": {},
     "output_type": "execute_result"
    }
   ],
   "source": [
    "df.groupby(['TRx','pathology']).size()"
   ]
  },
  {
   "cell_type": "code",
   "execution_count": 12,
   "metadata": {},
   "outputs": [
    {
     "data": {
      "text/plain": [
       "All TR  pathology\n",
       "TR1     b             1\n",
       "TR2     b             5\n",
       "        ca            1\n",
       "TR3     b            33\n",
       "        ca            5\n",
       "TR4     b            45\n",
       "        ca           14\n",
       "TR5     b            15\n",
       "        ca           32\n",
       "dtype: int64"
      ]
     },
     "execution_count": 12,
     "metadata": {},
     "output_type": "execute_result"
    }
   ],
   "source": [
    "df.groupby(['All TR','pathology']).size()"
   ]
  },
  {
   "cell_type": "code",
   "execution_count": 13,
   "metadata": {},
   "outputs": [],
   "source": [
    "# replace benign with 0 and cancer with 1\n",
    "df['pathology'].replace({'b':0,'ca':1},inplace= True)"
   ]
  },
  {
   "cell_type": "code",
   "execution_count": 14,
   "metadata": {},
   "outputs": [
    {
     "data": {
      "text/html": [
       "<div>\n",
       "<style scoped>\n",
       "    .dataframe tbody tr th:only-of-type {\n",
       "        vertical-align: middle;\n",
       "    }\n",
       "\n",
       "    .dataframe tbody tr th {\n",
       "        vertical-align: top;\n",
       "    }\n",
       "\n",
       "    .dataframe thead th {\n",
       "        text-align: right;\n",
       "    }\n",
       "</style>\n",
       "<table border=\"1\" class=\"dataframe\">\n",
       "  <thead>\n",
       "    <tr style=\"text-align: right;\">\n",
       "      <th></th>\n",
       "      <th>liver mean</th>\n",
       "      <th>nodule max</th>\n",
       "      <th>pathology</th>\n",
       "      <th>nod_liver</th>\n",
       "      <th>TRx</th>\n",
       "    </tr>\n",
       "  </thead>\n",
       "  <tbody>\n",
       "    <tr>\n",
       "      <td>liver mean</td>\n",
       "      <td>1.000000</td>\n",
       "      <td>0.121980</td>\n",
       "      <td>-0.021615</td>\n",
       "      <td>-0.043547</td>\n",
       "      <td>-0.076141</td>\n",
       "    </tr>\n",
       "    <tr>\n",
       "      <td>nodule max</td>\n",
       "      <td>0.121980</td>\n",
       "      <td>1.000000</td>\n",
       "      <td>0.345891</td>\n",
       "      <td>0.968727</td>\n",
       "      <td>0.050939</td>\n",
       "    </tr>\n",
       "    <tr>\n",
       "      <td>pathology</td>\n",
       "      <td>-0.021615</td>\n",
       "      <td>0.345891</td>\n",
       "      <td>1.000000</td>\n",
       "      <td>0.355222</td>\n",
       "      <td>0.427164</td>\n",
       "    </tr>\n",
       "    <tr>\n",
       "      <td>nod_liver</td>\n",
       "      <td>-0.043547</td>\n",
       "      <td>0.968727</td>\n",
       "      <td>0.355222</td>\n",
       "      <td>1.000000</td>\n",
       "      <td>0.057453</td>\n",
       "    </tr>\n",
       "    <tr>\n",
       "      <td>TRx</td>\n",
       "      <td>-0.076141</td>\n",
       "      <td>0.050939</td>\n",
       "      <td>0.427164</td>\n",
       "      <td>0.057453</td>\n",
       "      <td>1.000000</td>\n",
       "    </tr>\n",
       "  </tbody>\n",
       "</table>\n",
       "</div>"
      ],
      "text/plain": [
       "            liver mean  nodule max  pathology  nod_liver       TRx\n",
       "liver mean    1.000000    0.121980  -0.021615  -0.043547 -0.076141\n",
       "nodule max    0.121980    1.000000   0.345891   0.968727  0.050939\n",
       "pathology    -0.021615    0.345891   1.000000   0.355222  0.427164\n",
       "nod_liver    -0.043547    0.968727   0.355222   1.000000  0.057453\n",
       "TRx          -0.076141    0.050939   0.427164   0.057453  1.000000"
      ]
     },
     "execution_count": 14,
     "metadata": {},
     "output_type": "execute_result"
    }
   ],
   "source": [
    "co=df.corr()\n",
    "co"
   ]
  },
  {
   "cell_type": "code",
   "execution_count": 15,
   "metadata": {},
   "outputs": [
    {
     "data": {
      "image/png": "[encoded data removed]",
      "text/plain": [
       "<Figure size 432x288 with 2 Axes>"
      ]
     },
     "metadata": {
      "needs_background": "light"
     },
     "output_type": "display_data"
    }
   ],
   "source": [
    "#correlation matrix\n",
    "sns.heatmap(co, annot=True)\n",
    "plt.tight_layout() \n",
    "plt.savefig('heat.png')\n",
    "plt.show()\n"
   ]
  },
  {
   "cell_type": "code",
   "execution_count": 16,
   "metadata": {},
   "outputs": [],
   "source": [
    "from sklearn.metrics import classification_report, confusion_matrix"
   ]
  },
  {
   "cell_type": "code",
   "execution_count": 17,
   "metadata": {},
   "outputs": [
    {
     "data": {
      "text/plain": [
       "0    99\n",
       "1    52\n",
       "Name: pathology, dtype: int64"
      ]
     },
     "execution_count": 17,
     "metadata": {},
     "output_type": "execute_result"
    }
   ],
   "source": [
    "df.pathology.value_counts()"
   ]
  },
  {
   "cell_type": "code",
   "execution_count": 18,
   "metadata": {},
   "outputs": [],
   "source": [
    "from sklearn.preprocessing import StandardScaler\n",
    "scaler= StandardScaler()\n",
    "df['scaled_nod']=scaler.fit_transform(df[['nod_liver']])"
   ]
  },
  {
   "cell_type": "code",
   "execution_count": 19,
   "metadata": {},
   "outputs": [
    {
     "data": {
      "text/html": [
       "<div>\n",
       "<style scoped>\n",
       "    .dataframe tbody tr th:only-of-type {\n",
       "        vertical-align: middle;\n",
       "    }\n",
       "\n",
       "    .dataframe tbody tr th {\n",
       "        vertical-align: top;\n",
       "    }\n",
       "\n",
       "    .dataframe thead th {\n",
       "        text-align: right;\n",
       "    }\n",
       "</style>\n",
       "<table border=\"1\" class=\"dataframe\">\n",
       "  <thead>\n",
       "    <tr style=\"text-align: right;\">\n",
       "      <th></th>\n",
       "      <th>liver mean</th>\n",
       "      <th>nodule max</th>\n",
       "      <th>pathology</th>\n",
       "      <th>All TR</th>\n",
       "      <th>nod_liver</th>\n",
       "      <th>TRx</th>\n",
       "      <th>scaled_nod</th>\n",
       "    </tr>\n",
       "  </thead>\n",
       "  <tbody>\n",
       "    <tr>\n",
       "      <td>0</td>\n",
       "      <td>2.1</td>\n",
       "      <td>19.0</td>\n",
       "      <td>1</td>\n",
       "      <td>TR5</td>\n",
       "      <td>9.047619</td>\n",
       "      <td>5</td>\n",
       "      <td>0.985079</td>\n",
       "    </tr>\n",
       "    <tr>\n",
       "      <td>1</td>\n",
       "      <td>2.4</td>\n",
       "      <td>1.9</td>\n",
       "      <td>1</td>\n",
       "      <td>TR4</td>\n",
       "      <td>0.791667</td>\n",
       "      <td>4</td>\n",
       "      <td>-0.613974</td>\n",
       "    </tr>\n",
       "    <tr>\n",
       "      <td>2</td>\n",
       "      <td>2.2</td>\n",
       "      <td>4.0</td>\n",
       "      <td>0</td>\n",
       "      <td>TR2</td>\n",
       "      <td>1.818182</td>\n",
       "      <td>2</td>\n",
       "      <td>-0.415154</td>\n",
       "    </tr>\n",
       "    <tr>\n",
       "      <td>3</td>\n",
       "      <td>2.7</td>\n",
       "      <td>3.6</td>\n",
       "      <td>0</td>\n",
       "      <td>TR5</td>\n",
       "      <td>1.333333</td>\n",
       "      <td>5</td>\n",
       "      <td>-0.509062</td>\n",
       "    </tr>\n",
       "    <tr>\n",
       "      <td>5</td>\n",
       "      <td>3.1</td>\n",
       "      <td>13.9</td>\n",
       "      <td>1</td>\n",
       "      <td>TR5</td>\n",
       "      <td>4.483871</td>\n",
       "      <td>5</td>\n",
       "      <td>0.101150</td>\n",
       "    </tr>\n",
       "  </tbody>\n",
       "</table>\n",
       "</div>"
      ],
      "text/plain": [
       "   liver mean  nodule max  pathology All TR  nod_liver  TRx  scaled_nod\n",
       "0         2.1        19.0          1    TR5   9.047619    5    0.985079\n",
       "1         2.4         1.9          1    TR4   0.791667    4   -0.613974\n",
       "2         2.2         4.0          0    TR2   1.818182    2   -0.415154\n",
       "3         2.7         3.6          0    TR5   1.333333    5   -0.509062\n",
       "5         3.1        13.9          1    TR5   4.483871    5    0.101150"
      ]
     },
     "execution_count": 19,
     "metadata": {},
     "output_type": "execute_result"
    }
   ],
   "source": [
    "df.head()"
   ]
  },
  {
   "cell_type": "code",
   "execution_count": 20,
   "metadata": {},
   "outputs": [
    {
     "data": {
      "text/html": [
       "<div>\n",
       "<style scoped>\n",
       "    .dataframe tbody tr th:only-of-type {\n",
       "        vertical-align: middle;\n",
       "    }\n",
       "\n",
       "    .dataframe tbody tr th {\n",
       "        vertical-align: top;\n",
       "    }\n",
       "\n",
       "    .dataframe thead th {\n",
       "        text-align: right;\n",
       "    }\n",
       "</style>\n",
       "<table border=\"1\" class=\"dataframe\">\n",
       "  <thead>\n",
       "    <tr style=\"text-align: right;\">\n",
       "      <th></th>\n",
       "      <th>liver mean</th>\n",
       "      <th>nodule max</th>\n",
       "      <th>pathology</th>\n",
       "      <th>nod_liver</th>\n",
       "      <th>TRx</th>\n",
       "      <th>scaled_nod</th>\n",
       "    </tr>\n",
       "  </thead>\n",
       "  <tbody>\n",
       "    <tr>\n",
       "      <td>count</td>\n",
       "      <td>151.000000</td>\n",
       "      <td>151.000000</td>\n",
       "      <td>151.000000</td>\n",
       "      <td>151.000000</td>\n",
       "      <td>151.000000</td>\n",
       "      <td>1.510000e+02</td>\n",
       "    </tr>\n",
       "    <tr>\n",
       "      <td>mean</td>\n",
       "      <td>2.680199</td>\n",
       "      <td>10.504834</td>\n",
       "      <td>0.344371</td>\n",
       "      <td>3.961632</td>\n",
       "      <td>3.960265</td>\n",
       "      <td>-2.191036e-16</td>\n",
       "    </tr>\n",
       "    <tr>\n",
       "      <td>std</td>\n",
       "      <td>0.504837</td>\n",
       "      <td>14.358418</td>\n",
       "      <td>0.476744</td>\n",
       "      <td>5.180207</td>\n",
       "      <td>0.886046</td>\n",
       "      <td>1.003328e+00</td>\n",
       "    </tr>\n",
       "    <tr>\n",
       "      <td>min</td>\n",
       "      <td>1.300000</td>\n",
       "      <td>1.900000</td>\n",
       "      <td>0.000000</td>\n",
       "      <td>0.714286</td>\n",
       "      <td>1.000000</td>\n",
       "      <td>-6.289620e-01</td>\n",
       "    </tr>\n",
       "    <tr>\n",
       "      <td>25%</td>\n",
       "      <td>2.400000</td>\n",
       "      <td>3.585000</td>\n",
       "      <td>0.000000</td>\n",
       "      <td>1.383308</td>\n",
       "      <td>3.000000</td>\n",
       "      <td>-4.993825e-01</td>\n",
       "    </tr>\n",
       "    <tr>\n",
       "      <td>50%</td>\n",
       "      <td>2.610000</td>\n",
       "      <td>5.900000</td>\n",
       "      <td>0.000000</td>\n",
       "      <td>2.275862</td>\n",
       "      <td>4.000000</td>\n",
       "      <td>-3.265082e-01</td>\n",
       "    </tr>\n",
       "    <tr>\n",
       "      <td>75%</td>\n",
       "      <td>2.910000</td>\n",
       "      <td>10.800000</td>\n",
       "      <td>1.000000</td>\n",
       "      <td>4.076511</td>\n",
       "      <td>5.000000</td>\n",
       "      <td>2.225018e-02</td>\n",
       "    </tr>\n",
       "    <tr>\n",
       "      <td>max</td>\n",
       "      <td>4.600000</td>\n",
       "      <td>116.300000</td>\n",
       "      <td>1.000000</td>\n",
       "      <td>36.572581</td>\n",
       "      <td>5.000000</td>\n",
       "      <td>6.316248e+00</td>\n",
       "    </tr>\n",
       "  </tbody>\n",
       "</table>\n",
       "</div>"
      ],
      "text/plain": [
       "       liver mean  nodule max   pathology   nod_liver         TRx  \\\n",
       "count  151.000000  151.000000  151.000000  151.000000  151.000000   \n",
       "mean     2.680199   10.504834    0.344371    3.961632    3.960265   \n",
       "std      0.504837   14.358418    0.476744    5.180207    0.886046   \n",
       "min      1.300000    1.900000    0.000000    0.714286    1.000000   \n",
       "25%      2.400000    3.585000    0.000000    1.383308    3.000000   \n",
       "50%      2.610000    5.900000    0.000000    2.275862    4.000000   \n",
       "75%      2.910000   10.800000    1.000000    4.076511    5.000000   \n",
       "max      4.600000  116.300000    1.000000   36.572581    5.000000   \n",
       "\n",
       "         scaled_nod  \n",
       "count  1.510000e+02  \n",
       "mean  -2.191036e-16  \n",
       "std    1.003328e+00  \n",
       "min   -6.289620e-01  \n",
       "25%   -4.993825e-01  \n",
       "50%   -3.265082e-01  \n",
       "75%    2.225018e-02  \n",
       "max    6.316248e+00  "
      ]
     },
     "execution_count": 20,
     "metadata": {},
     "output_type": "execute_result"
    }
   ],
   "source": [
    "df.describe()"
   ]
  },
  {
   "cell_type": "code",
   "execution_count": 21,
   "metadata": {},
   "outputs": [],
   "source": [
    "#filter normalized nodules that are more than 1.96 standard deviation away from mean\n",
    "filt = (df['scaled_nod']>1.96)|(df['scaled_nod']<-1.96)"
   ]
  },
  {
   "cell_type": "code",
   "execution_count": 22,
   "metadata": {},
   "outputs": [
    {
     "data": {
      "text/plain": [
       "7"
      ]
     },
     "execution_count": 22,
     "metadata": {},
     "output_type": "execute_result"
    }
   ],
   "source": [
    "filt.sum()"
   ]
  },
  {
   "cell_type": "code",
   "execution_count": 23,
   "metadata": {},
   "outputs": [],
   "source": [
    "#create new dataframe without outliers \n",
    "df_scaled=df.loc[~filt,['nodule max','nod_liver','TRx','pathology']]"
   ]
  },
  {
   "cell_type": "code",
   "execution_count": 24,
   "metadata": {},
   "outputs": [
    {
     "data": {
      "text/plain": [
       "(144, 4)"
      ]
     },
     "execution_count": 24,
     "metadata": {},
     "output_type": "execute_result"
    }
   ],
   "source": [
    "df_scaled.shape"
   ]
  },
  {
   "cell_type": "code",
   "execution_count": 25,
   "metadata": {},
   "outputs": [
    {
     "data": {
      "text/plain": [
       "(151, 7)"
      ]
     },
     "execution_count": 25,
     "metadata": {},
     "output_type": "execute_result"
    }
   ],
   "source": [
    "df.shape"
   ]
  },
  {
   "cell_type": "code",
   "execution_count": 26,
   "metadata": {},
   "outputs": [
    {
     "data": {
      "text/html": [
       "<div>\n",
       "<style scoped>\n",
       "    .dataframe tbody tr th:only-of-type {\n",
       "        vertical-align: middle;\n",
       "    }\n",
       "\n",
       "    .dataframe tbody tr th {\n",
       "        vertical-align: top;\n",
       "    }\n",
       "\n",
       "    .dataframe thead th {\n",
       "        text-align: right;\n",
       "    }\n",
       "</style>\n",
       "<table border=\"1\" class=\"dataframe\">\n",
       "  <thead>\n",
       "    <tr style=\"text-align: right;\">\n",
       "      <th></th>\n",
       "      <th>nodule max</th>\n",
       "      <th>nod_liver</th>\n",
       "      <th>TRx</th>\n",
       "      <th>pathology</th>\n",
       "    </tr>\n",
       "  </thead>\n",
       "  <tbody>\n",
       "    <tr>\n",
       "      <td>nodule max</td>\n",
       "      <td>1.000000</td>\n",
       "      <td>0.936979</td>\n",
       "      <td>-0.026113</td>\n",
       "      <td>0.423340</td>\n",
       "    </tr>\n",
       "    <tr>\n",
       "      <td>nod_liver</td>\n",
       "      <td>0.936979</td>\n",
       "      <td>1.000000</td>\n",
       "      <td>-0.005997</td>\n",
       "      <td>0.406961</td>\n",
       "    </tr>\n",
       "    <tr>\n",
       "      <td>TRx</td>\n",
       "      <td>-0.026113</td>\n",
       "      <td>-0.005997</td>\n",
       "      <td>1.000000</td>\n",
       "      <td>0.423370</td>\n",
       "    </tr>\n",
       "    <tr>\n",
       "      <td>pathology</td>\n",
       "      <td>0.423340</td>\n",
       "      <td>0.406961</td>\n",
       "      <td>0.423370</td>\n",
       "      <td>1.000000</td>\n",
       "    </tr>\n",
       "  </tbody>\n",
       "</table>\n",
       "</div>"
      ],
      "text/plain": [
       "            nodule max  nod_liver       TRx  pathology\n",
       "nodule max    1.000000   0.936979 -0.026113   0.423340\n",
       "nod_liver     0.936979   1.000000 -0.005997   0.406961\n",
       "TRx          -0.026113  -0.005997  1.000000   0.423370\n",
       "pathology     0.423340   0.406961  0.423370   1.000000"
      ]
     },
     "execution_count": 26,
     "metadata": {},
     "output_type": "execute_result"
    }
   ],
   "source": [
    "df_scaled.corr()"
   ]
  },
  {
   "cell_type": "code",
   "execution_count": 27,
   "metadata": {},
   "outputs": [
    {
     "data": {
      "text/html": [
       "<div>\n",
       "<style scoped>\n",
       "    .dataframe tbody tr th:only-of-type {\n",
       "        vertical-align: middle;\n",
       "    }\n",
       "\n",
       "    .dataframe tbody tr th {\n",
       "        vertical-align: top;\n",
       "    }\n",
       "\n",
       "    .dataframe thead th {\n",
       "        text-align: right;\n",
       "    }\n",
       "</style>\n",
       "<table border=\"1\" class=\"dataframe\">\n",
       "  <thead>\n",
       "    <tr style=\"text-align: right;\">\n",
       "      <th></th>\n",
       "      <th>nodule max</th>\n",
       "      <th>nod_liver</th>\n",
       "      <th>TRx</th>\n",
       "      <th>pathology</th>\n",
       "    </tr>\n",
       "  </thead>\n",
       "  <tbody>\n",
       "    <tr>\n",
       "      <td>count</td>\n",
       "      <td>144.000000</td>\n",
       "      <td>144.000000</td>\n",
       "      <td>144.000000</td>\n",
       "      <td>144.000000</td>\n",
       "    </tr>\n",
       "    <tr>\n",
       "      <td>mean</td>\n",
       "      <td>8.013403</td>\n",
       "      <td>3.021256</td>\n",
       "      <td>3.951389</td>\n",
       "      <td>0.326389</td>\n",
       "    </tr>\n",
       "    <tr>\n",
       "      <td>std</td>\n",
       "      <td>6.585306</td>\n",
       "      <td>2.357684</td>\n",
       "      <td>0.887598</td>\n",
       "      <td>0.470528</td>\n",
       "    </tr>\n",
       "    <tr>\n",
       "      <td>min</td>\n",
       "      <td>1.900000</td>\n",
       "      <td>0.714286</td>\n",
       "      <td>1.000000</td>\n",
       "      <td>0.000000</td>\n",
       "    </tr>\n",
       "    <tr>\n",
       "      <td>25%</td>\n",
       "      <td>3.500000</td>\n",
       "      <td>1.361373</td>\n",
       "      <td>3.000000</td>\n",
       "      <td>0.000000</td>\n",
       "    </tr>\n",
       "    <tr>\n",
       "      <td>50%</td>\n",
       "      <td>5.500000</td>\n",
       "      <td>2.112500</td>\n",
       "      <td>4.000000</td>\n",
       "      <td>0.000000</td>\n",
       "    </tr>\n",
       "    <tr>\n",
       "      <td>75%</td>\n",
       "      <td>9.312500</td>\n",
       "      <td>3.712413</td>\n",
       "      <td>5.000000</td>\n",
       "      <td>1.000000</td>\n",
       "    </tr>\n",
       "    <tr>\n",
       "      <td>max</td>\n",
       "      <td>40.600000</td>\n",
       "      <td>13.657588</td>\n",
       "      <td>5.000000</td>\n",
       "      <td>1.000000</td>\n",
       "    </tr>\n",
       "  </tbody>\n",
       "</table>\n",
       "</div>"
      ],
      "text/plain": [
       "       nodule max   nod_liver         TRx   pathology\n",
       "count  144.000000  144.000000  144.000000  144.000000\n",
       "mean     8.013403    3.021256    3.951389    0.326389\n",
       "std      6.585306    2.357684    0.887598    0.470528\n",
       "min      1.900000    0.714286    1.000000    0.000000\n",
       "25%      3.500000    1.361373    3.000000    0.000000\n",
       "50%      5.500000    2.112500    4.000000    0.000000\n",
       "75%      9.312500    3.712413    5.000000    1.000000\n",
       "max     40.600000   13.657588    5.000000    1.000000"
      ]
     },
     "execution_count": 27,
     "metadata": {},
     "output_type": "execute_result"
    }
   ],
   "source": [
    "df_scaled.describe()"
   ]
  },
  {
   "cell_type": "code",
   "execution_count": 28,
   "metadata": {},
   "outputs": [
    {
     "data": {
      "text/plain": [
       "<matplotlib.axes._subplots.AxesSubplot at 0x7ff2ef15e190>"
      ]
     },
     "execution_count": 28,
     "metadata": {},
     "output_type": "execute_result"
    },
    {
     "data": {
      "image/png": "[encoded data removed]",
      "text/plain": [
       "<Figure size 432x288 with 1 Axes>"
      ]
     },
     "metadata": {
      "needs_background": "light"
     },
     "output_type": "display_data"
    }
   ],
   "source": [
    "sns.distplot(df_scaled['nod_liver'])"
   ]
  },
  {
   "cell_type": "code",
   "execution_count": 29,
   "metadata": {
    "scrolled": true
   },
   "outputs": [
    {
     "data": {
      "image/png": "[encoded data removed]",
      "text/plain": [
       "<Figure size 432x288 with 1 Axes>"
      ]
     },
     "metadata": {
      "needs_background": "light"
     },
     "output_type": "display_data"
    }
   ],
   "source": [
    "sns.scatterplot(x='nod_liver',y='TRx',data=df_scaled,hue='pathology')\n",
    "plt.legend(loc=4)\n",
    "plt.show()"
   ]
  },
  {
   "cell_type": "code",
   "execution_count": 30,
   "metadata": {},
   "outputs": [
    {
     "data": {
      "text/plain": [
       "0.8402777777777778"
      ]
     },
     "execution_count": 30,
     "metadata": {},
     "output_type": "execute_result"
    }
   ],
   "source": [
    "from sklearn.linear_model import LogisticRegression \n",
    "model = LogisticRegression(solver='lbfgs')\n",
    "features=df_scaled[['nod_liver', 'TRx']]\n",
    "labels=df_scaled['pathology']\n",
    "model.fit(features,labels)\n",
    "model.score(features,labels)"
   ]
  },
  {
   "cell_type": "code",
   "execution_count": 31,
   "metadata": {},
   "outputs": [
    {
     "data": {
      "text/plain": [
       "array([[0.53284027, 1.59546039]])"
      ]
     },
     "execution_count": 31,
     "metadata": {},
     "output_type": "execute_result"
    }
   ],
   "source": [
    "model.coef_"
   ]
  },
  {
   "cell_type": "code",
   "execution_count": 32,
   "metadata": {},
   "outputs": [
    {
     "data": {
      "text/plain": [
       "array([-9.04562797])"
      ]
     },
     "execution_count": 32,
     "metadata": {},
     "output_type": "execute_result"
    }
   ],
   "source": [
    "model.intercept_"
   ]
  },
  {
   "cell_type": "code",
   "execution_count": 33,
   "metadata": {
    "scrolled": true
   },
   "outputs": [
    {
     "data": {
      "text/plain": [
       "array([[1.70376459, 4.93059857]])"
      ]
     },
     "execution_count": 33,
     "metadata": {},
     "output_type": "execute_result"
    }
   ],
   "source": [
    "import numpy as np\n",
    "np.exp(model.coef_)"
   ]
  },
  {
   "cell_type": "code",
   "execution_count": 34,
   "metadata": {},
   "outputs": [
    {
     "data": {
      "text/plain": [
       "array([0.00011791])"
      ]
     },
     "execution_count": 34,
     "metadata": {},
     "output_type": "execute_result"
    }
   ],
   "source": [
    "np.exp(model.intercept_)"
   ]
  },
  {
   "cell_type": "markdown",
   "metadata": {},
   "source": [
    "Based on normalized nodule uptake and on impression of radiologists. Our model with 84% accuracy predicts benign vs cancer thyroid nodules. The relative importance of normalized nodule uptake on the odds of benign/cancer is 1.7 while the relative importance on radiologists impression is 4.9 "
   ]
  },
  {
   "cell_type": "code",
   "execution_count": 35,
   "metadata": {},
   "outputs": [
    {
     "data": {
      "text/plain": [
       "0.8338461538461537"
      ]
     },
     "execution_count": 35,
     "metadata": {},
     "output_type": "execute_result"
    }
   ],
   "source": [
    "# model score is not due to overfitting\n",
    "from sklearn.model_selection import cross_val_score\n",
    "scores=cross_val_score(model, features, labels,cv=10) \n",
    "scores.mean()"
   ]
  },
  {
   "cell_type": "code",
   "execution_count": 36,
   "metadata": {},
   "outputs": [
    {
     "name": "stdout",
     "output_type": "stream",
     "text": [
      "[[90  7]\n",
      " [16 31]]\n"
     ]
    }
   ],
   "source": [
    "from sklearn.metrics import classification_report, confusion_matrix\n",
    "print(confusion_matrix(labels,model.predict(features)))"
   ]
  },
  {
   "cell_type": "code",
   "execution_count": 37,
   "metadata": {},
   "outputs": [
    {
     "name": "stdout",
     "output_type": "stream",
     "text": [
      "              precision    recall  f1-score   support\n",
      "\n",
      "           0       0.85      0.93      0.89        97\n",
      "           1       0.82      0.66      0.73        47\n",
      "\n",
      "    accuracy                           0.84       144\n",
      "   macro avg       0.83      0.79      0.81       144\n",
      "weighted avg       0.84      0.84      0.84       144\n",
      "\n"
     ]
    }
   ],
   "source": [
    "print(classification_report(labels,model.predict(features)))"
   ]
  }
 ],
 "metadata": {
  "kernelspec": {
   "display_name": "Python 3",
   "language": "python",
   "name": "python3"
  },
  "language_info": {
   "codemirror_mode": {
    "name": "ipython",
    "version": 3
   },
   "file_extension": ".py",
   "mimetype": "text/x-python",
   "name": "python",
   "nbconvert_exporter": "python",
   "pygments_lexer": "ipython3",
   "version": "3.7.4"
  }
 },
 "nbformat": 4,
 "nbformat_minor": 2
}
